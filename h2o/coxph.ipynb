{
 "cells": [
  {
   "cell_type": "code",
   "execution_count": 1,
   "metadata": {},
   "outputs": [
    {
     "name": "stdout",
     "output_type": "stream",
     "text": [
      "Checking whether there is an H2O instance running at http://localhost:54321 . connected.\n"
     ]
    },
    {
     "data": {
      "text/html": [
       "<div style=\"overflow:auto\"><table style=\"width:50%\"><tr><td>H2O_cluster_uptime:</td>\n",
       "<td>21 mins 11 secs</td></tr>\n",
       "<tr><td>H2O_cluster_timezone:</td>\n",
       "<td>America/Santiago</td></tr>\n",
       "<tr><td>H2O_data_parsing_timezone:</td>\n",
       "<td>UTC</td></tr>\n",
       "<tr><td>H2O_cluster_version:</td>\n",
       "<td>3.36.1.2</td></tr>\n",
       "<tr><td>H2O_cluster_version_age:</td>\n",
       "<td>1 month and 15 days </td></tr>\n",
       "<tr><td>H2O_cluster_name:</td>\n",
       "<td>H2O_from_python_mwils_47jp78</td></tr>\n",
       "<tr><td>H2O_cluster_total_nodes:</td>\n",
       "<td>1</td></tr>\n",
       "<tr><td>H2O_cluster_free_memory:</td>\n",
       "<td>3.261 Gb</td></tr>\n",
       "<tr><td>H2O_cluster_total_cores:</td>\n",
       "<td>8</td></tr>\n",
       "<tr><td>H2O_cluster_allowed_cores:</td>\n",
       "<td>8</td></tr>\n",
       "<tr><td>H2O_cluster_status:</td>\n",
       "<td>locked, healthy</td></tr>\n",
       "<tr><td>H2O_connection_url:</td>\n",
       "<td>http://localhost:54321</td></tr>\n",
       "<tr><td>H2O_connection_proxy:</td>\n",
       "<td>{\"http\": null, \"https\": null}</td></tr>\n",
       "<tr><td>H2O_internal_security:</td>\n",
       "<td>False</td></tr>\n",
       "<tr><td>Python_version:</td>\n",
       "<td>3.9.5 final</td></tr></table></div>"
      ],
      "text/plain": [
       "--------------------------  -----------------------------\n",
       "H2O_cluster_uptime:         21 mins 11 secs\n",
       "H2O_cluster_timezone:       America/Santiago\n",
       "H2O_data_parsing_timezone:  UTC\n",
       "H2O_cluster_version:        3.36.1.2\n",
       "H2O_cluster_version_age:    1 month and 15 days\n",
       "H2O_cluster_name:           H2O_from_python_mwils_47jp78\n",
       "H2O_cluster_total_nodes:    1\n",
       "H2O_cluster_free_memory:    3.261 Gb\n",
       "H2O_cluster_total_cores:    8\n",
       "H2O_cluster_allowed_cores:  8\n",
       "H2O_cluster_status:         locked, healthy\n",
       "H2O_connection_url:         http://localhost:54321\n",
       "H2O_connection_proxy:       {\"http\": null, \"https\": null}\n",
       "H2O_internal_security:      False\n",
       "Python_version:             3.9.5 final\n",
       "--------------------------  -----------------------------"
      ]
     },
     "metadata": {},
     "output_type": "display_data"
    }
   ],
   "source": [
    "import h2o\n",
    "from h2o.estimators.coxph import H2OCoxProportionalHazardsEstimator\n",
    "h2o.init()\n"
   ]
  },
  {
   "cell_type": "code",
   "execution_count": 4,
   "metadata": {},
   "outputs": [
    {
     "name": "stdout",
     "output_type": "stream",
     "text": [
      "Parse progress: |████████████████████████████████████████████████████████████████| (done) 100%\n"
     ]
    },
    {
     "data": {
      "text/html": [
       "<table>\n",
       "<thead>\n",
       "<tr><th style=\"text-align: right;\">  start</th><th style=\"text-align: right;\">  stop</th><th style=\"text-align: right;\">  event</th><th style=\"text-align: right;\">      age</th><th style=\"text-align: right;\">    year</th><th style=\"text-align: right;\">  surgery</th><th style=\"text-align: right;\">  transplant</th><th style=\"text-align: right;\">  id</th></tr>\n",
       "</thead>\n",
       "<tbody>\n",
       "<tr><td style=\"text-align: right;\">      0</td><td style=\"text-align: right;\">    50</td><td style=\"text-align: right;\">      1</td><td style=\"text-align: right;\">-17.1554 </td><td style=\"text-align: right;\">0.123203</td><td style=\"text-align: right;\">        0</td><td style=\"text-align: right;\">           0</td><td style=\"text-align: right;\">   1</td></tr>\n",
       "<tr><td style=\"text-align: right;\">      0</td><td style=\"text-align: right;\">     6</td><td style=\"text-align: right;\">      1</td><td style=\"text-align: right;\">  3.83573</td><td style=\"text-align: right;\">0.25462 </td><td style=\"text-align: right;\">        0</td><td style=\"text-align: right;\">           0</td><td style=\"text-align: right;\">   2</td></tr>\n",
       "<tr><td style=\"text-align: right;\">      0</td><td style=\"text-align: right;\">     1</td><td style=\"text-align: right;\">      0</td><td style=\"text-align: right;\">  6.29706</td><td style=\"text-align: right;\">0.265572</td><td style=\"text-align: right;\">        0</td><td style=\"text-align: right;\">           0</td><td style=\"text-align: right;\">   3</td></tr>\n",
       "<tr><td style=\"text-align: right;\">      1</td><td style=\"text-align: right;\">    16</td><td style=\"text-align: right;\">      1</td><td style=\"text-align: right;\">  6.29706</td><td style=\"text-align: right;\">0.265572</td><td style=\"text-align: right;\">        0</td><td style=\"text-align: right;\">           1</td><td style=\"text-align: right;\">   3</td></tr>\n",
       "<tr><td style=\"text-align: right;\">      0</td><td style=\"text-align: right;\">    36</td><td style=\"text-align: right;\">      0</td><td style=\"text-align: right;\"> -7.73717</td><td style=\"text-align: right;\">0.490075</td><td style=\"text-align: right;\">        0</td><td style=\"text-align: right;\">           0</td><td style=\"text-align: right;\">   4</td></tr>\n",
       "<tr><td style=\"text-align: right;\">     36</td><td style=\"text-align: right;\">    39</td><td style=\"text-align: right;\">      1</td><td style=\"text-align: right;\"> -7.73717</td><td style=\"text-align: right;\">0.490075</td><td style=\"text-align: right;\">        0</td><td style=\"text-align: right;\">           1</td><td style=\"text-align: right;\">   4</td></tr>\n",
       "<tr><td style=\"text-align: right;\">      0</td><td style=\"text-align: right;\">    18</td><td style=\"text-align: right;\">      1</td><td style=\"text-align: right;\">-27.2142 </td><td style=\"text-align: right;\">0.607803</td><td style=\"text-align: right;\">        0</td><td style=\"text-align: right;\">           0</td><td style=\"text-align: right;\">   5</td></tr>\n",
       "<tr><td style=\"text-align: right;\">      0</td><td style=\"text-align: right;\">     3</td><td style=\"text-align: right;\">      1</td><td style=\"text-align: right;\">  6.59548</td><td style=\"text-align: right;\">0.70089 </td><td style=\"text-align: right;\">        0</td><td style=\"text-align: right;\">           0</td><td style=\"text-align: right;\">   6</td></tr>\n",
       "<tr><td style=\"text-align: right;\">      0</td><td style=\"text-align: right;\">    51</td><td style=\"text-align: right;\">      0</td><td style=\"text-align: right;\">  2.86927</td><td style=\"text-align: right;\">0.780287</td><td style=\"text-align: right;\">        0</td><td style=\"text-align: right;\">           0</td><td style=\"text-align: right;\">   7</td></tr>\n",
       "<tr><td style=\"text-align: right;\">     51</td><td style=\"text-align: right;\">   675</td><td style=\"text-align: right;\">      1</td><td style=\"text-align: right;\">  2.86927</td><td style=\"text-align: right;\">0.780287</td><td style=\"text-align: right;\">        0</td><td style=\"text-align: right;\">           1</td><td style=\"text-align: right;\">   7</td></tr>\n",
       "</tbody>\n",
       "</table>"
      ]
     },
     "metadata": {},
     "output_type": "display_data"
    },
    {
     "name": "stdout",
     "output_type": "stream",
     "text": [
      "\n"
     ]
    }
   ],
   "source": [
    "# Import the heart dataset into H2O:\n",
    "heart = h2o.import_file(\"http://s3.amazonaws.com/h2o-public-test-data/smalldata/coxph_test/heart.csv\")\n",
    "print(heart.head())"
   ]
  },
  {
   "cell_type": "code",
   "execution_count": 5,
   "metadata": {},
   "outputs": [],
   "source": [
    "# Split the dataset into a train and test set:\n",
    "train, test = heart.split_frame(ratios = [.8], seed = 1234)"
   ]
  },
  {
   "cell_type": "code",
   "execution_count": 6,
   "metadata": {},
   "outputs": [
    {
     "name": "stderr",
     "output_type": "stream",
     "text": [
      "c:\\Users\\mwils\\Documents\\Python\\ML\\venv\\lib\\site-packages\\h2o\\estimators\\estimator_base.py:208: RuntimeWarning: Response is numeric, so the regression model will be trained. However, the cardinality is equaled to two, so if you want to train a classification model, convert the response column to categorical before training.\n",
      "  warnings.warn(mesg[\"message\"], RuntimeWarning)\n"
     ]
    },
    {
     "name": "stdout",
     "output_type": "stream",
     "text": [
      "coxph Model Build progress: |████████████████████████████████████████████████████| (done) 100%\n",
      "Model Details\n",
      "=============\n",
      "H2OCoxProportionalHazardsEstimator :  Cox Proportional Hazards\n",
      "Model Key:  CoxPH_model_python_1657564349268_1\n",
      "\n",
      "Call: \n",
      "Surv(start, stop, event) ~ age\n",
      "\n",
      "Coefficients: CoxPH Coefficients\n"
     ]
    },
    {
     "data": {
      "text/html": [
       "<div>\n",
       "<style scoped>\n",
       "    .dataframe tbody tr th:only-of-type {\n",
       "        vertical-align: middle;\n",
       "    }\n",
       "\n",
       "    .dataframe tbody tr th {\n",
       "        vertical-align: top;\n",
       "    }\n",
       "\n",
       "    .dataframe thead th {\n",
       "        text-align: right;\n",
       "    }\n",
       "</style>\n",
       "<table border=\"1\" class=\"dataframe\">\n",
       "  <thead>\n",
       "    <tr style=\"text-align: right;\">\n",
       "      <th></th>\n",
       "      <th>names</th>\n",
       "      <th>coefficients</th>\n",
       "      <th>exp_coef</th>\n",
       "      <th>exp_neg_coef</th>\n",
       "      <th>se_coef</th>\n",
       "      <th>z_coef</th>\n",
       "    </tr>\n",
       "  </thead>\n",
       "  <tbody>\n",
       "    <tr>\n",
       "      <th>0</th>\n",
       "      <td>age</td>\n",
       "      <td>0.022568</td>\n",
       "      <td>1.022824</td>\n",
       "      <td>0.977685</td>\n",
       "      <td>0.015144</td>\n",
       "      <td>1.490247</td>\n",
       "    </tr>\n",
       "  </tbody>\n",
       "</table>\n",
       "</div>"
      ],
      "text/plain": [
       "  names  coefficients  exp_coef  exp_neg_coef   se_coef    z_coef\n",
       "0   age      0.022568  1.022824      0.977685  0.015144  1.490247"
      ]
     },
     "metadata": {},
     "output_type": "display_data"
    },
    {
     "name": "stdout",
     "output_type": "stream",
     "text": [
      "\n",
      "Likelihood ratio test=2.422254\n",
      "Concordance=0.557352\n",
      "n=138, number of events=59\n",
      "\n",
      "ModelMetricsRegressionCoxPH: coxph\n",
      "** Reported on train data. **\n",
      "\n",
      "MSE: NaN\n",
      "RMSE: NaN\n",
      "Concordance score: 0.5573518090839107\n",
      "Concordant count: 2169\n",
      "Tied cout: 6\n",
      "\n",
      "Scoring History: \n"
     ]
    },
    {
     "data": {
      "text/html": [
       "<div>\n",
       "<style scoped>\n",
       "    .dataframe tbody tr th:only-of-type {\n",
       "        vertical-align: middle;\n",
       "    }\n",
       "\n",
       "    .dataframe tbody tr th {\n",
       "        vertical-align: top;\n",
       "    }\n",
       "\n",
       "    .dataframe thead th {\n",
       "        text-align: right;\n",
       "    }\n",
       "</style>\n",
       "<table border=\"1\" class=\"dataframe\">\n",
       "  <thead>\n",
       "    <tr style=\"text-align: right;\">\n",
       "      <th></th>\n",
       "      <th></th>\n",
       "      <th>timestamp</th>\n",
       "      <th>duration</th>\n",
       "      <th>iterations</th>\n",
       "      <th>loglik</th>\n",
       "    </tr>\n",
       "  </thead>\n",
       "  <tbody>\n",
       "    <tr>\n",
       "      <th>0</th>\n",
       "      <td></td>\n",
       "      <td>2022-07-11 14:56:35</td>\n",
       "      <td>0.000 sec</td>\n",
       "      <td>0</td>\n",
       "      <td>-220.069362</td>\n",
       "    </tr>\n",
       "    <tr>\n",
       "      <th>1</th>\n",
       "      <td></td>\n",
       "      <td>2022-07-11 14:56:35</td>\n",
       "      <td>0.002 sec</td>\n",
       "      <td>1</td>\n",
       "      <td>-218.874684</td>\n",
       "    </tr>\n",
       "    <tr>\n",
       "      <th>2</th>\n",
       "      <td></td>\n",
       "      <td>2022-07-11 14:56:35</td>\n",
       "      <td>0.004 sec</td>\n",
       "      <td>2</td>\n",
       "      <td>-218.858239</td>\n",
       "    </tr>\n",
       "    <tr>\n",
       "      <th>3</th>\n",
       "      <td></td>\n",
       "      <td>2022-07-11 14:56:35</td>\n",
       "      <td>0.005 sec</td>\n",
       "      <td>3</td>\n",
       "      <td>-218.858235</td>\n",
       "    </tr>\n",
       "    <tr>\n",
       "      <th>4</th>\n",
       "      <td></td>\n",
       "      <td>2022-07-11 14:56:35</td>\n",
       "      <td>0.006 sec</td>\n",
       "      <td>4</td>\n",
       "      <td>-218.858235</td>\n",
       "    </tr>\n",
       "  </tbody>\n",
       "</table>\n",
       "</div>"
      ],
      "text/plain": [
       "               timestamp    duration  iterations      loglik\n",
       "0    2022-07-11 14:56:35   0.000 sec           0 -220.069362\n",
       "1    2022-07-11 14:56:35   0.002 sec           1 -218.874684\n",
       "2    2022-07-11 14:56:35   0.004 sec           2 -218.858239\n",
       "3    2022-07-11 14:56:35   0.005 sec           3 -218.858235\n",
       "4    2022-07-11 14:56:35   0.006 sec           4 -218.858235"
      ]
     },
     "metadata": {},
     "output_type": "display_data"
    },
    {
     "data": {
      "text/plain": []
     },
     "execution_count": 6,
     "metadata": {},
     "output_type": "execute_result"
    }
   ],
   "source": [
    "# Build and train the model:\n",
    "heart_coxph = H2OCoxProportionalHazardsEstimator(start_column=\"start\",\n",
    "                                                 stop_column=\"stop\",\n",
    "                                                 ties=\"breslow\")\n",
    "heart_coxph.train(x=\"age\",\n",
    "            y=\"event\",\n",
    "            training_frame=train)"
   ]
  },
  {
   "cell_type": "code",
   "execution_count": 8,
   "metadata": {},
   "outputs": [
    {
     "name": "stdout",
     "output_type": "stream",
     "text": [
      "coxph prediction progress: |█████████████████████████████████████████████████████| (done) 100%\n"
     ]
    },
    {
     "data": {
      "text/html": [
       "<table>\n",
       "<thead>\n",
       "<tr><th style=\"text-align: right;\">       lp</th></tr>\n",
       "</thead>\n",
       "<tbody>\n",
       "<tr><td style=\"text-align: right;\">0.209418 </td></tr>\n",
       "<tr><td style=\"text-align: right;\">0.132061 </td></tr>\n",
       "<tr><td style=\"text-align: right;\">0.0668752</td></tr>\n",
       "<tr><td style=\"text-align: right;\">0.215659 </td></tr>\n",
       "<tr><td style=\"text-align: right;\">0.215659 </td></tr>\n",
       "<tr><td style=\"text-align: right;\">0.202992 </td></tr>\n",
       "<tr><td style=\"text-align: right;\">0.202992 </td></tr>\n",
       "<tr><td style=\"text-align: right;\">0.198544 </td></tr>\n",
       "<tr><td style=\"text-align: right;\">0.267004 </td></tr>\n",
       "<tr><td style=\"text-align: right;\">0.2316   </td></tr>\n",
       "</tbody>\n",
       "</table>"
      ]
     },
     "metadata": {},
     "output_type": "display_data"
    },
    {
     "name": "stdout",
     "output_type": "stream",
     "text": [
      "\n"
     ]
    }
   ],
   "source": [
    "# Generate predictions on a test set (if necessary):\n",
    "pred = heart_coxph.predict(test)\n",
    "print(pred.head())"
   ]
  },
  {
   "cell_type": "code",
   "execution_count": 10,
   "metadata": {},
   "outputs": [
    {
     "data": {
      "text/html": [
       "<table>\n",
       "<thead>\n",
       "<tr><th style=\"text-align: right;\">  t</th><th style=\"text-align: right;\">  baseline hazard</th></tr>\n",
       "</thead>\n",
       "<tbody>\n",
       "<tr><td style=\"text-align: right;\">  1</td><td style=\"text-align: right;\">       0         </td></tr>\n",
       "<tr><td style=\"text-align: right;\">  2</td><td style=\"text-align: right;\">       0.0143776 </td></tr>\n",
       "<tr><td style=\"text-align: right;\">  3</td><td style=\"text-align: right;\">       0.0224131 </td></tr>\n",
       "<tr><td style=\"text-align: right;\">  4</td><td style=\"text-align: right;\">       0         </td></tr>\n",
       "<tr><td style=\"text-align: right;\">  5</td><td style=\"text-align: right;\">       0.00787185</td></tr>\n",
       "<tr><td style=\"text-align: right;\">  6</td><td style=\"text-align: right;\">       0.00806003</td></tr>\n",
       "<tr><td style=\"text-align: right;\">  8</td><td style=\"text-align: right;\">       0.00821637</td></tr>\n",
       "<tr><td style=\"text-align: right;\">  9</td><td style=\"text-align: right;\">       0.00844234</td></tr>\n",
       "<tr><td style=\"text-align: right;\"> 10</td><td style=\"text-align: right;\">       0         </td></tr>\n",
       "<tr><td style=\"text-align: right;\"> 11</td><td style=\"text-align: right;\">       0         </td></tr>\n",
       "</tbody>\n",
       "</table>"
      ]
     },
     "metadata": {},
     "output_type": "display_data"
    },
    {
     "name": "stdout",
     "output_type": "stream",
     "text": [
      "\n"
     ]
    }
   ],
   "source": [
    "# Get baseline hazard:\n",
    "hazard = heart_coxph.baseline_hazard_frame\n",
    "print(hazard)"
   ]
  },
  {
   "cell_type": "code",
   "execution_count": 11,
   "metadata": {},
   "outputs": [
    {
     "data": {
      "text/html": [
       "<table>\n",
       "<thead>\n",
       "<tr><th style=\"text-align: right;\">  t</th><th style=\"text-align: right;\">  baseline survival</th></tr>\n",
       "</thead>\n",
       "<tbody>\n",
       "<tr><td style=\"text-align: right;\">  1</td><td style=\"text-align: right;\">           1       </td></tr>\n",
       "<tr><td style=\"text-align: right;\">  2</td><td style=\"text-align: right;\">           0.985725</td></tr>\n",
       "<tr><td style=\"text-align: right;\">  3</td><td style=\"text-align: right;\">           0.963878</td></tr>\n",
       "<tr><td style=\"text-align: right;\">  4</td><td style=\"text-align: right;\">           0.963878</td></tr>\n",
       "<tr><td style=\"text-align: right;\">  5</td><td style=\"text-align: right;\">           0.95632 </td></tr>\n",
       "<tr><td style=\"text-align: right;\">  6</td><td style=\"text-align: right;\">           0.948643</td></tr>\n",
       "<tr><td style=\"text-align: right;\">  8</td><td style=\"text-align: right;\">           0.940881</td></tr>\n",
       "<tr><td style=\"text-align: right;\">  9</td><td style=\"text-align: right;\">           0.932971</td></tr>\n",
       "<tr><td style=\"text-align: right;\"> 10</td><td style=\"text-align: right;\">           0.932971</td></tr>\n",
       "<tr><td style=\"text-align: right;\"> 11</td><td style=\"text-align: right;\">           0.932971</td></tr>\n",
       "</tbody>\n",
       "</table>"
      ]
     },
     "metadata": {},
     "output_type": "display_data"
    },
    {
     "name": "stdout",
     "output_type": "stream",
     "text": [
      "\n"
     ]
    }
   ],
   "source": [
    "survival = heart_coxph.baseline_survival_frame\n",
    "print(survival)"
   ]
  },
  {
   "cell_type": "code",
   "execution_count": 12,
   "metadata": {},
   "outputs": [
    {
     "data": {
      "text/plain": [
       "0.5573518090839107"
      ]
     },
     "execution_count": 12,
     "metadata": {},
     "output_type": "execute_result"
    }
   ],
   "source": [
    "heart_coxph.model_performance().concordance()"
   ]
  }
 ],
 "metadata": {
  "kernelspec": {
   "display_name": "Python 3.9.5 ('venv': venv)",
   "language": "python",
   "name": "python3"
  },
  "language_info": {
   "codemirror_mode": {
    "name": "ipython",
    "version": 3
   },
   "file_extension": ".py",
   "mimetype": "text/x-python",
   "name": "python",
   "nbconvert_exporter": "python",
   "pygments_lexer": "ipython3",
   "version": "3.9.5"
  },
  "orig_nbformat": 4,
  "vscode": {
   "interpreter": {
    "hash": "d63d771768433c6229ba0e0fea1671bbd6fc0387245588d4514cdecf77e0ec99"
   }
  }
 },
 "nbformat": 4,
 "nbformat_minor": 2
}
